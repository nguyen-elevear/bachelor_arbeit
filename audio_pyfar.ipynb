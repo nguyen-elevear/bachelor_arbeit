{
 "cells": [
  {
   "cell_type": "code",
   "execution_count": null,
   "metadata": {},
   "outputs": [],
   "source": [
    "import numpy as np\n",
    "import matplotlib.pyplot as plt\n",
    "import sounddevice as sd\n",
    "import ipywidgets as widgets\n",
    "from matplotlib.ticker import FuncFormatter\n",
    "from scipy.signal import butter, lfilter, iirpeak, iirnotch\n",
    "from scipy.io import wavfile\n",
    "from scipy.fft import fft\n",
    "from scipy.signal import freqz\n",
    "from IPython.display import display, HTML\n",
    "import pyfar as pf\n",
    "from functools import partial\n",
    "\n",
    "%matplotlib widget"
   ]
  },
  {
   "cell_type": "markdown",
   "metadata": {},
   "source": [
    "### Import audio ###"
   ]
  },
  {
   "cell_type": "code",
   "execution_count": null,
   "metadata": {},
   "outputs": [],
   "source": [
    "audio = {}\n",
    "audio[\"coffee_shop\"] = pf.io.read_audio(\"./coffee_shop.wav\")\n",
    "audio[\"library\"] = pf.io.read_audio(\"./library.wav\")\n",
    "audio[\"airport\"] = pf.io.read_audio(\"./airport.wav\")\n",
    "audio[\"jet_engine\"] = pf.io.read_audio(\"./jet_engines.mp3\")\n",
    "\n",
    "print(audio[\"coffee_shop\"].cshape)"
   ]
  },
  {
   "cell_type": "markdown",
   "metadata": {},
   "source": [
    "### Define Audio Player Widgets ###"
   ]
  },
  {
   "cell_type": "code",
   "execution_count": null,
   "metadata": {},
   "outputs": [],
   "source": [
    "print(sd.query_devices())\n",
    "\n",
    "# Play audio\n",
    "def play_audio(audio, sample_rate):\n",
    "    sd.play(audio.time.T, sample_rate)\n",
    "\n",
    "\n",
    "# Stop audio\n",
    "def stop_audio(b):\n",
    "    sd.stop()\n",
    "\n",
    "\n",
    "\n",
    "def create_play_button(description, signal):\n",
    "    button = widgets.Button(description=description)\n",
    "    button.layout = widgets.Layout(border='1px solid black', border_radius='10px')\n",
    "    button.on_click(lambda b, audio=signal: play_audio(audio, audio.sampling_rate))\n",
    "    button.layout.width = '250px'\n",
    "    return button\n",
    "\n",
    "stop_button = widgets.Button(description=\"Stop Audio\")\n",
    "stop_button.layout = widgets.Layout(border='1px solid black', border_radius='10px')\n",
    "stop_button.on_click(stop_audio)\n",
    "\n",
    "\n",
    "# Custom CSS to style the ipywidget buttons\n",
    "custom_css = \"\"\"\n",
    "<style>\n",
    "    .jupyter-widgets button {\n",
    "        background-color: white !important;\n",
    "        border: 1px solid black !important;\n",
    "        border-radius: 10px !important;\n",
    "        margin: 10px;\n",
    "    }\n",
    "    .widget-container {\n",
    "        display: flex;\n",
    "        flex-direction: row;\n",
    "        justify-content: start;\n",
    "        align-items: center;\n",
    "    }\n",
    "</style>\n",
    "\"\"\"\n",
    "\n",
    "# Display the custom CSS\n",
    "display(HTML(custom_css))\n"
   ]
  },
  {
   "cell_type": "markdown",
   "metadata": {},
   "source": [
    "### Define Filters ###"
   ]
  },
  {
   "cell_type": "code",
   "execution_count": null,
   "metadata": {},
   "outputs": [],
   "source": [
    "\"\"\"Get a FilterIIR Object representing the butterworth filter\"\"\"\n",
    "def get_butterworth(signal, order, cutoff, sample_rate, btype='lowpass'):\n",
    "    return pf.dsp.filter.butterworth(signal, order, cutoff, btype, sample_rate)\n",
    "\n",
    "\n",
    "\n",
    "\"\"\" Get a FilterIIR Object representing the bell filter\"\"\"\n",
    "def get_bell(signal, center_freq, gain, bandwidth, sample_rate):\n",
    "    return pf.dsp.filter.bell(signal, center_freq, gain, center_freq/bandwidth, sampling_rate=sample_rate)\n"
   ]
  },
  {
   "cell_type": "markdown",
   "metadata": {},
   "source": [
    "### Define Plotting Functions ###"
   ]
  },
  {
   "cell_type": "code",
   "execution_count": null,
   "metadata": {},
   "outputs": [],
   "source": [
    "\"\"\" Define custom formatter for axis ticks\"\"\"\n",
    "def custom_formatter(x, pos):\n",
    "    if int(x) >= 1000:\n",
    "        return f'{int(x/1000)}k'\n",
    "    else:\n",
    "        return f'{int(x)}'\n",
    "    \n",
    "    \n",
    "\"\"\"\n",
    "Define function to plot magnitude spectrum of signals\n",
    "    @nrows: number of signals\n",
    "    @ncolumns: number of channels pro signal\n",
    "    @data: a dictionary in form of {signal_type}:{data}\n",
    "\n",
    "\"\"\"\n",
    "def plot_freq(nrows, ncolumns, data):\n",
    "    fig, ax = plt.subplots(nrows, ncolumns, figsize=(12, 5))\n",
    "    row = 0\n",
    "    column = 0\n",
    "    ticks = [10, 20, 40, 60, 100, 200, 400, 600, 1000, 2000, 4000, 6000, 10000, 20000]\n",
    "    for type, signal in data.items():\n",
    "        print(signal.signal_type)\n",
    "        if signal.signal_type == \"energy\":\n",
    "            magnitude = 20 * np.log10(abs(signal.freq))\n",
    "        else: \n",
    "            magnitude = 10 * np.log10(abs(signal.freq))\n",
    "        for channel in range(0, signal.cshape[0]):\n",
    "            ax[row, column].plot(signal.frequencies, magnitude[channel, :], label=f'{type} - Channel {channel}')\n",
    "            ax[row, column].set_xscale(\"log\")\n",
    "            ax[row, column].get_xaxis().set_major_formatter(FuncFormatter(custom_formatter))\n",
    "            ax[row, column].set_xlabel(\"Frequencies [Hz]\")\n",
    "            ax[row, column].set_xticks(ticks)\n",
    "            ax[row, column].set_xlim(10, 20000)\n",
    "            ax[row, column].set_ylabel(\"Magnitude [dB]\")\n",
    "            ax[row, column].legend()\n",
    "            ax[row, column].grid()\n",
    "            column += 1\n",
    "        row += 1\n",
    "        column = 0\n",
    "    plt.tight_layout()\n",
    "\n",
    "\n",
    "\n",
    "\"\"\"Plot Filter magnitude spectrum\"\"\"\n",
    "def plot_impulse_response(filters, descriptors=None):\n",
    "    impulse = pf.signals.impulse(2**21)\n",
    "    fig, ax = plt.subplots(figsize=(15,5))\n",
    "    for index, filter in enumerate(filters):\n",
    "        impulse_response = filter.process(impulse)\n",
    "        if impulse_response.signal_type == \"energy\":\n",
    "            magnitude = 20 * np.log10(abs(impulse_response.freq))\n",
    "        else: \n",
    "            magnitude = 10 * np.log10(abs(impulse_response.freq))\n",
    "        ax.plot(impulse_response.frequencies, magnitude[0], label=f'{descriptors[index]}')\n",
    "    ticks = [10, 20, 40, 60, 100, 200, 400, 600, 1000, 2000, 4000, 6000, 10000, 20000]\n",
    "    ax.set_xscale(\"log\")\n",
    "    ax.get_xaxis().set_major_formatter(FuncFormatter(custom_formatter))\n",
    "    ax.set_xlabel(\"Frequencies [Hz]\")\n",
    "    ax.set_xticks(ticks)\n",
    "    ax.set_xlim(10, 20000)\n",
    "    ax.set_ylabel(\"Magnitude [dB]\")\n",
    "    ax.set_ylim(-50, 0)\n",
    "    ax.legend()\n",
    "    ax.grid()"
   ]
  },
  {
   "cell_type": "markdown",
   "metadata": {},
   "source": [
    "### Plot Audio Signals ###"
   ]
  },
  {
   "cell_type": "code",
   "execution_count": null,
   "metadata": {},
   "outputs": [],
   "source": [
    "plot_freq(len(audio.keys()), 2, audio)"
   ]
  },
  {
   "cell_type": "markdown",
   "metadata": {},
   "source": [
    "### Butterworth Bandstop Magnitude Spectrum ###"
   ]
  },
  {
   "cell_type": "code",
   "execution_count": null,
   "metadata": {},
   "outputs": [],
   "source": [
    "bandstops = []\n",
    "bandstops_descriptors = []\n",
    "for i in range(1,10):\n",
    "    bandstops.append(get_butterworth(None, i, [100, 1000], sample_rate=44100, btype='bandstop'))\n",
    "    bandstops_descriptors.append(f\"{i}-Order\")\n",
    "plot_impulse_response(bandstops, bandstops_descriptors)"
   ]
  },
  {
   "cell_type": "markdown",
   "metadata": {},
   "source": [
    "### Butterworth Lowpass Magnitude Spectrum ###"
   ]
  },
  {
   "cell_type": "code",
   "execution_count": null,
   "metadata": {},
   "outputs": [],
   "source": [
    "butterworths = []\n",
    "butterworth_descriptors = []\n",
    "for i in range(1,10):\n",
    "    butterworths.append(get_butterworth(None, i, 100, sample_rate=44100))\n",
    "    butterworth_descriptors.append(f\"{i}-Order\")\n",
    "plot_impulse_response(butterworths, butterworth_descriptors)"
   ]
  },
  {
   "cell_type": "markdown",
   "metadata": {},
   "source": [
    "### Bell Filter magnitude spectrum ###"
   ]
  },
  {
   "cell_type": "code",
   "execution_count": null,
   "metadata": {},
   "outputs": [],
   "source": [
    "bandwidths = [10, 50, 100]\n",
    "bells = []\n",
    "bell_descriptors = []\n",
    "for bandwidth in bandwidths:\n",
    "    bells.append(get_bell(None, 200, -30, bandwidth, 44100))\n",
    "    bell_descriptors.append(f\"Bandwidth: {bandwidth}Hz\")\n",
    "plot_impulse_response(bells, bell_descriptors)"
   ]
  },
  {
   "cell_type": "markdown",
   "metadata": {},
   "source": [
    "### Apply Butterworth Filter to Different Sounds and Plot the resulting spectrum ###"
   ]
  },
  {
   "cell_type": "code",
   "execution_count": null,
   "metadata": {},
   "outputs": [],
   "source": [
    "audio_butterworth = {}\n",
    "\n",
    "for type, signal in audio.items():\n",
    "    signal_filtered = get_butterworth(signal, 9, 150, None)\n",
    "    audio_butterworth[f'{type}'] = signal_filtered\n",
    "plot_freq(len(audio_butterworth.keys()), 2, audio_butterworth)"
   ]
  },
  {
   "cell_type": "markdown",
   "metadata": {},
   "source": [
    "### Apply Bell Filter to Different Sounds and Plot the resulting spectrum ###"
   ]
  },
  {
   "cell_type": "code",
   "execution_count": null,
   "metadata": {},
   "outputs": [],
   "source": [
    "# audio_bell = {}\n",
    "\n",
    "# for type, signal in audio.items():\n",
    "#     signal_filtered = get_bell(signal, 200, -35, 100, None)\n",
    "#     audio_bell[f'{type}'] = signal_filtered\n",
    "# plot_freq(len(audio_bell.keys()), 2, audio_bell)"
   ]
  },
  {
   "cell_type": "markdown",
   "metadata": {},
   "source": [
    "### Apply Bandstop Filter to different sounds ###"
   ]
  },
  {
   "cell_type": "code",
   "execution_count": null,
   "metadata": {},
   "outputs": [],
   "source": [
    "audio_bandstops = {}\n",
    "\n",
    "for type, signal in audio.items():\n",
    "    signal_filtered = get_butterworth(signal, 10, [100, 10000], None, btype='bandstop')\n",
    "    audio_bandstops[f'{type}'] = signal_filtered\n",
    "plot_freq(len(audio_bandstops.keys()), 2, audio_bandstops)"
   ]
  },
  {
   "cell_type": "markdown",
   "metadata": {},
   "source": [
    "### Concatenate original and filtered signals to simulate ANC on/off ###"
   ]
  },
  {
   "cell_type": "code",
   "execution_count": null,
   "metadata": {},
   "outputs": [],
   "source": [
    "combined_signals_lp = {}\n",
    "for type, signal in audio.items():\n",
    "    original_crop = pf.dsp.time_window(signal, interval=[0, 20], unit='s', crop='window', window='boxcar')\n",
    "    lowpass_crop = pf.dsp.time_window(audio_butterworth[f'{type}'], interval=[0, 20], unit='s', crop='window', window='boxcar')\n",
    "    combined_signals_lp[f'{type}'] = pf.utils.concatenate_channels((original_crop, lowpass_crop), 1)\n",
    "combined_signals_bs = {}\n",
    "\n",
    "for type, signal in audio.items():\n",
    "    original_crop = pf.dsp.time_window(signal, interval=[0, 20], unit='s', crop='window', window='boxcar')\n",
    "    bandstop_crop = pf.dsp.time_window(audio_bandstops[f'{type}'], interval=[0, 20], unit='s', crop='window', window='boxcar')\n",
    "    combined_signals_bs[f'{type}'] = pf.utils.concatenate_channels((original_crop, bandstop_crop), 1)"
   ]
  },
  {
   "cell_type": "markdown",
   "metadata": {},
   "source": [
    "### Play concatenated lowpass signal ###"
   ]
  },
  {
   "cell_type": "code",
   "execution_count": null,
   "metadata": {},
   "outputs": [],
   "source": [
    "for type, signal in combined_signals_lp.items():\n",
    "    play_original = create_play_button(f\"Play concatenated filtered {type}\", signal)\n",
    "    box = widgets.HBox([play_original, stop_button])\n",
    "    display(box)"
   ]
  },
  {
   "cell_type": "markdown",
   "metadata": {},
   "source": [
    "### Play concatenated bandstop signals ###"
   ]
  },
  {
   "cell_type": "code",
   "execution_count": null,
   "metadata": {},
   "outputs": [],
   "source": [
    "for type, signal in combined_signals_bs.items():\n",
    "    play_original = create_play_button(f\"Play concatenated {type}\", signal)\n",
    "    box = widgets.HBox([play_original, stop_button])\n",
    "    display(box)"
   ]
  },
  {
   "cell_type": "markdown",
   "metadata": {},
   "source": [
    "### Play original audio ###"
   ]
  },
  {
   "cell_type": "code",
   "execution_count": null,
   "metadata": {},
   "outputs": [],
   "source": [
    "for type, signal in audio.items():\n",
    "    play_original = create_play_button(f\"Play original {type}\", signal)\n",
    "    box = widgets.HBox([play_original, stop_button])\n",
    "    display(box)"
   ]
  },
  {
   "cell_type": "markdown",
   "metadata": {},
   "source": [
    "### Play lowpass filtered audio ###"
   ]
  },
  {
   "cell_type": "code",
   "execution_count": null,
   "metadata": {},
   "outputs": [],
   "source": [
    "for type, signal in audio_butterworth.items():\n",
    "    play_original = create_play_button(f\"Play low pass filtered {type}\", signal)\n",
    "    box = widgets.HBox([play_original, stop_button])\n",
    "    display(box)"
   ]
  },
  {
   "cell_type": "markdown",
   "metadata": {},
   "source": [
    "### Play bell filtered audio ###"
   ]
  },
  {
   "cell_type": "code",
   "execution_count": null,
   "metadata": {},
   "outputs": [],
   "source": [
    "# for type, signal in audio_bell.items():\n",
    "#     play_original = create_play_button(f\"Play bell filtered {type}\", signal)\n",
    "#     box = widgets.HBox([play_original, stop_button])\n",
    "#     display(box)"
   ]
  },
  {
   "cell_type": "markdown",
   "metadata": {},
   "source": [
    "### Play bandstop filter audio ###"
   ]
  },
  {
   "cell_type": "code",
   "execution_count": null,
   "metadata": {},
   "outputs": [],
   "source": [
    "for type, signal in audio_bandstops.items():\n",
    "    play_original = create_play_button(f\"Play bandstop filtered {type}\", signal)\n",
    "    box = widgets.HBox([play_original, stop_button])\n",
    "    display(box)"
   ]
  },
  {
   "cell_type": "code",
   "execution_count": null,
   "metadata": {},
   "outputs": [],
   "source": []
  }
 ],
 "metadata": {
  "kernelspec": {
   "display_name": "bachelor_arbeit",
   "language": "python",
   "name": "python3"
  },
  "language_info": {
   "codemirror_mode": {
    "name": "ipython",
    "version": 3
   },
   "file_extension": ".py",
   "mimetype": "text/x-python",
   "name": "python",
   "nbconvert_exporter": "python",
   "pygments_lexer": "ipython3",
   "version": "3.9.18"
  }
 },
 "nbformat": 4,
 "nbformat_minor": 2
}
