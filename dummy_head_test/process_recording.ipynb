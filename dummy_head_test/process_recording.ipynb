{
 "cells": [
  {
   "cell_type": "code",
   "execution_count": 18,
   "metadata": {},
   "outputs": [],
   "source": [
    "import numpy as np\n",
    "import matplotlib.pyplot as plt\n",
    "import sounddevice as sd\n",
    "import ipywidgets as widgets\n",
    "from matplotlib.ticker import FuncFormatter\n",
    "from IPython.display import display, HTML\n",
    "import pyfar as pf\n",
    "from functools import partial\n",
    "import math\n",
    "import soundfile as sf\n",
    "import os\n",
    "from pathlib import Path"
   ]
  },
  {
   "cell_type": "code",
   "execution_count": 21,
   "metadata": {},
   "outputs": [],
   "source": [
    "\n",
    "hptf_l = pf.io.read_audio(r\"C:\\Users\\LinhNguyen\\Desktop\\BA_Code\\dummy_head_test\\HpTF\\dt770_l.flac\")\n",
    "hptf_r = pf.io.read_audio(r\"C:\\Users\\LinhNguyen\\Desktop\\BA_Code\\dummy_head_test\\HpTF\\dt770_r.flac\")\n",
    "\n",
    "inverse_hptf_l = pf.dsp.regularized_spectrum_inversion(hptf_l, (10, 20000))\n",
    "inverse_hptf_r = pf.dsp.regularized_spectrum_inversion(hptf_r, (10, 20000))\n",
    "\n",
    "inverse_hptf = pf.utils.concatenate_channels((inverse_hptf_l, inverse_hptf_r))\n",
    "\n",
    "def process_recording(recording_path, inverse_hptf):\n",
    "    recording = pf.io.read_audio(recording_path)\n",
    "    processed = pf.dsp.convolve(inverse_hptf, recording)\n",
    "\n",
    "    filename = Path(recording_path).stem\n",
    "\n",
    "    pf.io.write_audio(processed, rf\"C:\\Users\\LinhNguyen\\Desktop\\BA_Code\\dummy_head_test\\processed_recordings\\{filename}.wav\", \"DOUBLE\")"
   ]
  },
  {
   "cell_type": "code",
   "execution_count": 22,
   "metadata": {},
   "outputs": [],
   "source": [
    "process_recording(r\"C:\\Users\\LinhNguyen\\Desktop\\BA_Code\\dummy_head_test\\Recordings\\xm3_silence.wav\", inverse_hptf)"
   ]
  },
  {
   "cell_type": "code",
   "execution_count": null,
   "metadata": {},
   "outputs": [],
   "source": []
  }
 ],
 "metadata": {
  "language_info": {
   "name": "python"
  }
 },
 "nbformat": 4,
 "nbformat_minor": 2
}
