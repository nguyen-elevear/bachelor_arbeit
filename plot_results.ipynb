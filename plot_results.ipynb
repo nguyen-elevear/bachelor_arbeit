{
 "cells": [
  {
   "cell_type": "code",
   "execution_count": null,
   "metadata": {},
   "outputs": [],
   "source": [
    "import ipywidgets as widgets\n",
    "from gui_qt.plot_box import plot_box\n",
    "from gui_qt.plot_hist import plot_hist\n",
    "%matplotlib widget"
   ]
  },
  {
   "cell_type": "markdown",
   "metadata": {},
   "source": [
    "### Box Plot of Filter Position Test's Results ###"
   ]
  },
  {
   "cell_type": "code",
   "execution_count": null,
   "metadata": {},
   "outputs": [],
   "source": [
    "\n",
    "results_filter_pos = [\"/Users/nptlinh/Desktop/BA-Code/gui_qt/results/filter_pos/sorted_airplane.csv\",\n",
    "          \"/Users/nptlinh/Desktop/BA-Code/gui_qt/results/filter_pos/sorted_car.csv\",\n",
    "          \"/Users/nptlinh/Desktop/BA-Code/gui_qt/results/filter_pos/sorted_train.csv\",\n",
    "          \"/Users/nptlinh/Desktop/BA-Code/gui_qt/results/filter_pos/sorted_sine.csv\",\n",
    "          \"/Users/nptlinh/Desktop/BA-Code/gui_qt/results/filter_pos/sorted_nature_creek.csv\",\n",
    "          \"/Users/nptlinh/Desktop/BA-Code/gui_qt/results/filter_pos/sorted_pub.csv\"]\n",
    "\n",
    "# results_filter_pos = [r\"C:\\Users\\LinhNguyen\\Desktop\\BA_Code\\gui_qt\\results\\filter_pos\\airplane.csv\",\n",
    "#             r\"C:\\Users\\LinhNguyen\\Desktop\\BA_Code\\gui_qt\\results\\filter_pos\\car.csv\",\n",
    "#             r\"C:\\Users\\LinhNguyen\\Desktop\\BA_Code\\gui_qt\\results\\filter_pos\\train.csv\",\n",
    "#             r\"C:\\Users\\LinhNguyen\\Desktop\\BA_Code\\gui_qt\\results\\filter_pos\\sine.csv\",\n",
    "#             r\"C:\\Users\\LinhNguyen\\Desktop\\BA_Code\\gui_qt\\results\\filter_pos\\nature_creek.csv\",\n",
    "#             r\"C:\\Users\\LinhNguyen\\Desktop\\BA_Code\\gui_qt\\results\\filter_pos\\pub.csv\"]\n",
    "plot_box(results_filter_pos)\n"
   ]
  },
  {
   "cell_type": "markdown",
   "metadata": {},
   "source": [
    "### Box Plot of Transition Test's Results ###"
   ]
  },
  {
   "cell_type": "code",
   "execution_count": null,
   "metadata": {},
   "outputs": [],
   "source": [
    "results_transition = [\"/Users/nptlinh/Desktop/BA-Code/gui_qt/results/transition/sorted_airplane.csv\",\n",
    "          \"/Users/nptlinh/Desktop/BA-Code/gui_qt/results/transition/sorted_mensa.csv\",\n",
    "          \"/Users/nptlinh/Desktop/BA-Code/gui_qt/results/transition/sorted_open_field.csv\",\n",
    "          \"/Users/nptlinh/Desktop/BA-Code/gui_qt/results/transition/sorted_pub.csv\",\n",
    "          \"/Users/nptlinh/Desktop/BA-Code/gui_qt/results/transition/sorted_train.csv\"]\n",
    "\n",
    "\n",
    "# results_transition = [r\"C:\\Users\\LinhNguyen\\Desktop\\BA_Code\\gui_qt\\results\\transition\\airplane.csv\",\n",
    "#             r\"C:\\Users\\LinhNguyen\\Desktop\\BA_Code\\gui_qt\\results\\transition\\mensa.csv\",\n",
    "#             r\"C:\\Users\\LinhNguyen\\Desktop\\BA_Code\\gui_qt\\results\\transition\\train.csv\",\n",
    "#             r\"C:\\Users\\LinhNguyen\\Desktop\\BA_Code\\gui_qt\\results\\transition\\pub.csv\",\n",
    "#             r\"C:\\Users\\LinhNguyen\\Desktop\\BA_Code\\gui_qt\\results\\transition\\open_field.csv\"]\n",
    "plot_box(results_transition)"
   ]
  },
  {
   "cell_type": "markdown",
   "metadata": {},
   "source": [
    "### Histograms of Filter Position Test ###"
   ]
  },
  {
   "cell_type": "code",
   "execution_count": null,
   "metadata": {},
   "outputs": [],
   "source": [
    "for filepath in results_filter_pos:\n",
    "    plot_hist(filepath, 1, -1)"
   ]
  },
  {
   "cell_type": "markdown",
   "metadata": {},
   "source": [
    "### Histogram of Transition Test ###"
   ]
  },
  {
   "cell_type": "code",
   "execution_count": null,
   "metadata": {},
   "outputs": [],
   "source": [
    "for filepath in results_transition:\n",
    "    plot_hist(filepath, 0, -2)"
   ]
  },
  {
   "cell_type": "code",
   "execution_count": null,
   "metadata": {},
   "outputs": [],
   "source": []
  }
 ],
 "metadata": {
  "kernelspec": {
   "display_name": "bachelor_arbeit",
   "language": "python",
   "name": "python3"
  },
  "language_info": {
   "codemirror_mode": {
    "name": "ipython",
    "version": 3
   },
   "file_extension": ".py",
   "mimetype": "text/x-python",
   "name": "python",
   "nbconvert_exporter": "python",
   "pygments_lexer": "ipython3",
   "version": "3.9.18"
  }
 },
 "nbformat": 4,
 "nbformat_minor": 2
}
