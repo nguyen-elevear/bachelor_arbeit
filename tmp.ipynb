{
 "cells": [
  {
   "cell_type": "code",
   "execution_count": null,
   "metadata": {},
   "outputs": [],
   "source": [
    "import numpy as np\n",
    "import os\n",
    "import soundfile as sf\n",
    "from matplotlib import pyplot as plt"
   ]
  },
  {
   "cell_type": "code",
   "execution_count": 13,
   "metadata": {},
   "outputs": [
    {
     "data": {
      "text/plain": [
       "array([0.99996948, 0.99996948, 0.76724243, 0.76724243, 0.26989746,\n",
       "       0.26989746, 0.99996948])"
      ]
     },
     "execution_count": 13,
     "metadata": {},
     "output_type": "execute_result"
    }
   ],
   "source": [
    "%matplotlib widget\n",
    "pathToAudio = './test_set/'\n",
    "\n",
    "audioFiles = os.listdir(pathToAudio)\n",
    "audioFiles = [file for file in audioFiles if file.startswith(\"midsize_car\")]\n",
    "\n",
    "audio = np.array([sf.read(pathToAudio + file)[0][:, 0] for file in audioFiles]).T"
   ]
  }
 ],
 "metadata": {
  "kernelspec": {
   "display_name": "bachelor_arbeit",
   "language": "python",
   "name": "python3"
  },
  "language_info": {
   "codemirror_mode": {
    "name": "ipython",
    "version": 3
   },
   "file_extension": ".py",
   "mimetype": "text/x-python",
   "name": "python",
   "nbconvert_exporter": "python",
   "pygments_lexer": "ipython3",
   "version": "3.9.18"
  }
 },
 "nbformat": 4,
 "nbformat_minor": 2
}
